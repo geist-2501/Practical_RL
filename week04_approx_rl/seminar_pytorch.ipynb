{
 "cells": [
  {
   "cell_type": "markdown",
   "metadata": {},
   "source": [
    "# Approximate q-learning\n",
    "\n",
    "In this notebook you will teach a __PyTorch__ neural network to do Q-learning."
   ]
  },
  {
   "cell_type": "code",
   "execution_count": null,
   "metadata": {},
   "outputs": [],
   "source": [
    "import sys, os\n",
    "if 'google.colab' in sys.modules and not os.path.exists('.setup_complete'):\n",
    "    !wget -q https://raw.githubusercontent.com/yandexdataschool/Practical_RL/master/setup_colab.sh -O- | bash\n",
    "    !touch .setup_complete\n",
    "\n",
    "# This code creates a virtual display to draw game images on.\n",
    "# It will have no effect if your machine has a monitor.\n",
    "if type(os.environ.get(\"DISPLAY\")) is not str or len(os.environ.get(\"DISPLAY\")) == 0:\n",
    "    !bash ../xvfb start\n",
    "    os.environ['DISPLAY'] = ':1'"
   ]
  },
  {
   "cell_type": "code",
   "execution_count": 1,
   "metadata": {},
   "outputs": [],
   "source": [
    "import gym\n",
    "import numpy as np\n",
    "import pandas as pd\n",
    "import matplotlib.pyplot as plt\n",
    "%matplotlib inline"
   ]
  },
  {
   "cell_type": "code",
   "execution_count": 4,
   "metadata": {},
   "outputs": [
    {
     "name": "stdout",
     "output_type": "stream",
     "text": [
      "(4,)\n"
     ]
    },
    {
     "data": {
      "text/plain": "<Figure size 640x480 with 1 Axes>",
      "image/png": "[encoded data removed]"
     },
     "metadata": {},
     "output_type": "display_data"
    }
   ],
   "source": [
    "env = gym.make(\"CartPole-v0\").env\n",
    "env.reset()\n",
    "n_actions = env.action_space.n\n",
    "state_dim = env.observation_space.shape\n",
    "print(state_dim)\n",
    "\n",
    "plt.imshow(env.render(\"rgb_array\"))\n",
    "env.close()"
   ]
  },
  {
   "cell_type": "markdown",
   "metadata": {},
   "source": [
    "# Approximate Q-learning: building the network\n",
    "\n",
    "To train a neural network policy one must have a neural network policy. Let's build it.\n",
    "\n",
    "\n",
    "Since we're working with a pre-extracted features (cart positions, angles and velocities), we don't need a complicated network yet. In fact, let's build something like this for starters:\n",
    "\n",
    "![img](https://raw.githubusercontent.com/yandexdataschool/Practical_RL/master/yet_another_week/_resource/qlearning_scheme.png)\n",
    "\n",
    "For your first run, please only use linear layers (`nn.Linear`) and activations. Stuff like batch normalization or dropout may ruin everything if used haphazardly. \n",
    "\n",
    "Also please avoid using nonlinearities like sigmoid & tanh: since agent's observations are not normalized, sigmoids might be saturated at initialization. Instead, use non-saturating nonlinearities like ReLU.\n",
    "\n",
    "Ideally you should start small with maybe 1-2 hidden layers with < 200 neurons and then increase network size if agent doesn't beat the target score."
   ]
  },
  {
   "cell_type": "code",
   "execution_count": 3,
   "metadata": {},
   "outputs": [],
   "source": [
    "import torch\n",
    "import torch.nn as nn\n",
    "import torch.nn.functional as F"
   ]
  },
  {
   "cell_type": "code",
   "execution_count": 29,
   "metadata": {},
   "outputs": [],
   "source": [
    "network = nn.Sequential()\n",
    "\n",
    "network.add_module('layer1', nn.Linear(state_dim[0], 150))\n",
    "network.add_module('layer1act', nn.ReLU())\n",
    "network.add_module('layer2', nn.Linear(150, n_actions))\n",
    "\n",
    "# hint: use state_dim[0] as input size"
   ]
  },
  {
   "cell_type": "code",
   "execution_count": 14,
   "metadata": {},
   "outputs": [],
   "source": [
    "def get_action(state, epsilon=0):\n",
    "    \"\"\"\n",
    "    sample actions with epsilon-greedy policy\n",
    "    recap: with p = epsilon pick random action, else pick action with highest Q(s,a)\n",
    "    \"\"\"\n",
    "    state = torch.tensor(state[None], dtype=torch.float32)\n",
    "    q_values = network(state).detach().numpy()\n",
    "\n",
    "    be_greedy = np.random.choice([True, False], p=[1-epsilon, epsilon])\n",
    "    if be_greedy:\n",
    "        return int(np.argmax(q_values))\n",
    "    else:\n",
    "        return int(np.random.choice(n_actions))"
   ]
  },
  {
   "cell_type": "code",
   "execution_count": 30,
   "metadata": {},
   "outputs": [
    {
     "name": "stdout",
     "output_type": "stream",
     "text": [
      "e=0.0 tests passed\n",
      "e=0.1 tests passed\n",
      "e=0.5 tests passed\n",
      "e=1.0 tests passed\n"
     ]
    }
   ],
   "source": [
    "s = env.reset()\n",
    "assert tuple(network(torch.tensor([s]*3, dtype=torch.float32)).size()) == (\n",
    "    3, n_actions), \"please make sure your model maps state s -> [Q(s,a0), ..., Q(s, a_last)]\"\n",
    "assert isinstance(list(network.modules(\n",
    "))[-1], nn.Linear), \"please make sure you predict q-values without nonlinearity (ignore if you know what you're doing)\"\n",
    "assert isinstance(get_action(\n",
    "    s), int), \"get_action(s) must return int, not %s. try int(action)\" % (type(get_action(s)))\n",
    "\n",
    "# test epsilon-greedy exploration\n",
    "for eps in [0., 0.1, 0.5, 1.0]:\n",
    "    state_frequencies = np.bincount(\n",
    "        [get_action(s, epsilon=eps) for i in range(10000)], minlength=n_actions)\n",
    "    best_action = state_frequencies.argmax()\n",
    "    assert abs(state_frequencies[best_action] -\n",
    "               10000 * (1 - eps + eps / n_actions)) < 200\n",
    "    for other_action in range(n_actions):\n",
    "        if other_action != best_action:\n",
    "            assert abs(state_frequencies[other_action] -\n",
    "                       10000 * (eps / n_actions)) < 200\n",
    "    print('e=%.1f tests passed' % eps)"
   ]
  },
  {
   "cell_type": "markdown",
   "metadata": {},
   "source": [
    "### Q-learning via gradient descent\n",
    "\n",
    "We shall now train our agent's Q-function by minimizing the TD loss:\n",
    "$$ L = { 1 \\over N} \\sum_i (Q_{\\theta}(s,a) - [r(s,a) + \\gamma \\cdot max_{a'} Q_{-}(s', a')]) ^2 $$\n",
    "\n",
    "\n",
    "Where\n",
    "* $s, a, r, s'$ are current state, action, reward and next state respectively\n",
    "* $\\gamma$ is a discount factor defined two cells above.\n",
    "\n",
    "The tricky part is with  $Q_{-}(s',a')$. From an engineering standpoint, it's the same as $Q_{\\theta}$ - the output of your neural network policy. However, when doing gradient descent, __we won't propagate gradients through it__ to make training more stable (see lectures).\n",
    "\n",
    "To do so, we shall use `x.detach()` function which basically says \"consider this thing constant when doingbackprop\"."
   ]
  },
  {
   "cell_type": "code",
   "execution_count": 23,
   "metadata": {},
   "outputs": [],
   "source": [
    "def compute_td_loss(states, actions, rewards, next_states, is_done, gamma=0.99, check_shapes=False):\n",
    "    \"\"\" Compute td loss using torch operations only. Use the formula above. \"\"\"\n",
    "    states = torch.tensor(\n",
    "        states, dtype=torch.float32)                                  # shape: [batch_size, state_size]\n",
    "    actions = torch.tensor(actions, dtype=torch.long)                 # shape: [batch_size]\n",
    "    rewards = torch.tensor(rewards, dtype=torch.float32)              # shape: [batch_size]\n",
    "    # shape: [batch_size, state_size]\n",
    "    next_states = torch.tensor(next_states, dtype=torch.float32)\n",
    "    is_done = torch.tensor(is_done, dtype=torch.uint8)                # shape: [batch_size]\n",
    "\n",
    "    # get q-values for all actions in current states\n",
    "    predicted_qvalues = network(states)                               # shape: [batch_size, n_actions]\n",
    "\n",
    "    # select q-values for chosen actions\n",
    "    predicted_qvalues_for_actions = predicted_qvalues[                # shape: [batch_size]\n",
    "      range(states.shape[0]), actions\n",
    "    ]\n",
    "\n",
    "    # compute q-values for all actions in next states\n",
    "    predicted_next_qvalues = network(next_states)                     # shape: [batch_size, n_actions]\n",
    "\n",
    "    # compute V*(next_states) using predicted next q-values\n",
    "    next_state_values, _ = torch.max(predicted_next_qvalues, dim=1)      # shape: [batch_size]\n",
    "    assert next_state_values.dtype == torch.float32\n",
    "\n",
    "    # compute \"target q-values\" for loss - it's what's inside square parentheses in the above formula.\n",
    "    target_qvalues_for_actions = rewards + gamma * next_state_values\n",
    "\n",
    "    # at the last state we shall use simplified formula: Q(s,a) = r(s,a) since s' doesn't exist\n",
    "    target_qvalues_for_actions = torch.where(\n",
    "        is_done, rewards, target_qvalues_for_actions)\n",
    "\n",
    "    # mean squared error loss to minimize\n",
    "    loss = torch.mean((predicted_qvalues_for_actions -\n",
    "                       target_qvalues_for_actions.detach()) ** 2)\n",
    "\n",
    "    if check_shapes:\n",
    "        assert predicted_next_qvalues.data.dim(\n",
    "        ) == 2, \"make sure you predicted q-values for all actions in next state\"\n",
    "        assert next_state_values.data.dim(\n",
    "        ) == 1, \"make sure you computed V(s') as maximum over just the actions axis and not all axes\"\n",
    "        assert target_qvalues_for_actions.data.dim(\n",
    "        ) == 1, \"there's something wrong with target q-values, they must be a vector\"\n",
    "\n",
    "    return loss"
   ]
  },
  {
   "cell_type": "code",
   "execution_count": 24,
   "metadata": {},
   "outputs": [
    {
     "name": "stdout",
     "output_type": "stream",
     "text": [
      "OK\n"
     ]
    }
   ],
   "source": [
    "# sanity checks\n",
    "s = env.reset()\n",
    "a = env.action_space.sample()\n",
    "next_s, r, done, _ = env.step(a)\n",
    "loss = compute_td_loss([s], [a], [r], [next_s], [done], check_shapes=True)\n",
    "loss.backward()\n",
    "\n",
    "assert len(loss.size()) == 0, \"you must return scalar loss - mean over batch\"\n",
    "assert np.any(next(network.parameters()).grad.detach().numpy() !=\n",
    "              0), \"loss must be differentiable w.r.t. network weights\"\n",
    "print(\"OK\")"
   ]
  },
  {
   "cell_type": "markdown",
   "metadata": {},
   "source": [
    "### Playing the game"
   ]
  },
  {
   "cell_type": "code",
   "execution_count": 31,
   "metadata": {},
   "outputs": [],
   "source": [
    "opt = torch.optim.Adam(network.parameters(), lr=1e-4)"
   ]
  },
  {
   "cell_type": "code",
   "execution_count": 32,
   "metadata": {},
   "outputs": [],
   "source": [
    "def generate_session(env, t_max=1000, epsilon=0, train=False):\n",
    "    \"\"\"play env with approximate q-learning agent and train it at the same time\"\"\"\n",
    "    total_reward = 0\n",
    "    s = env.reset()\n",
    "\n",
    "    for t in range(t_max):\n",
    "        a = get_action(s, epsilon=epsilon)\n",
    "        next_s, r, done, _ = env.step(a)\n",
    "\n",
    "        if train:\n",
    "            opt.zero_grad()\n",
    "            compute_td_loss([s], [a], [r], [next_s], [done]).backward()\n",
    "            opt.step()\n",
    "\n",
    "        total_reward += r\n",
    "        s = next_s\n",
    "        if done:\n",
    "            break\n",
    "\n",
    "    return total_reward"
   ]
  },
  {
   "cell_type": "code",
   "execution_count": 33,
   "metadata": {},
   "outputs": [],
   "source": [
    "epsilon = 0.5"
   ]
  },
  {
   "cell_type": "code",
   "execution_count": 34,
   "metadata": {},
   "outputs": [
    {
     "name": "stdout",
     "output_type": "stream",
     "text": [
      "epoch #0\tmean reward = 13.300\tepsilon = 0.500\n",
      "epoch #1\tmean reward = 14.290\tepsilon = 0.495\n",
      "epoch #2\tmean reward = 13.230\tepsilon = 0.490\n",
      "epoch #3\tmean reward = 13.370\tepsilon = 0.485\n",
      "epoch #4\tmean reward = 13.230\tepsilon = 0.480\n",
      "epoch #5\tmean reward = 13.160\tepsilon = 0.475\n",
      "epoch #6\tmean reward = 15.130\tepsilon = 0.471\n",
      "epoch #7\tmean reward = 21.650\tepsilon = 0.466\n",
      "epoch #8\tmean reward = 12.890\tepsilon = 0.461\n",
      "epoch #9\tmean reward = 15.220\tepsilon = 0.457\n",
      "epoch #10\tmean reward = 15.430\tepsilon = 0.452\n",
      "epoch #11\tmean reward = 13.140\tepsilon = 0.448\n",
      "epoch #12\tmean reward = 14.900\tepsilon = 0.443\n",
      "epoch #13\tmean reward = 13.030\tepsilon = 0.439\n",
      "epoch #14\tmean reward = 13.370\tepsilon = 0.434\n",
      "epoch #15\tmean reward = 14.110\tepsilon = 0.430\n",
      "epoch #16\tmean reward = 15.820\tepsilon = 0.426\n",
      "epoch #17\tmean reward = 23.880\tepsilon = 0.421\n",
      "epoch #18\tmean reward = 22.020\tepsilon = 0.417\n",
      "epoch #19\tmean reward = 29.180\tepsilon = 0.413\n",
      "epoch #20\tmean reward = 28.490\tepsilon = 0.409\n",
      "epoch #21\tmean reward = 34.250\tepsilon = 0.405\n",
      "epoch #22\tmean reward = 36.810\tepsilon = 0.401\n",
      "epoch #23\tmean reward = 39.210\tepsilon = 0.397\n",
      "epoch #24\tmean reward = 42.940\tepsilon = 0.393\n",
      "epoch #25\tmean reward = 33.130\tepsilon = 0.389\n",
      "epoch #26\tmean reward = 39.830\tepsilon = 0.385\n",
      "epoch #27\tmean reward = 41.430\tepsilon = 0.381\n",
      "epoch #28\tmean reward = 42.030\tepsilon = 0.377\n",
      "epoch #29\tmean reward = 41.260\tepsilon = 0.374\n",
      "epoch #30\tmean reward = 41.590\tepsilon = 0.370\n",
      "epoch #31\tmean reward = 41.550\tepsilon = 0.366\n",
      "epoch #32\tmean reward = 51.770\tepsilon = 0.362\n",
      "epoch #33\tmean reward = 55.220\tepsilon = 0.359\n",
      "epoch #34\tmean reward = 52.050\tepsilon = 0.355\n",
      "epoch #35\tmean reward = 61.390\tepsilon = 0.352\n",
      "epoch #36\tmean reward = 59.450\tepsilon = 0.348\n",
      "epoch #37\tmean reward = 64.160\tepsilon = 0.345\n",
      "epoch #38\tmean reward = 54.730\tepsilon = 0.341\n",
      "epoch #39\tmean reward = 62.800\tepsilon = 0.338\n",
      "epoch #40\tmean reward = 60.360\tepsilon = 0.334\n",
      "epoch #41\tmean reward = 74.800\tepsilon = 0.331\n",
      "epoch #42\tmean reward = 97.750\tepsilon = 0.328\n",
      "epoch #43\tmean reward = 79.770\tepsilon = 0.325\n",
      "epoch #44\tmean reward = 89.930\tepsilon = 0.321\n",
      "epoch #45\tmean reward = 127.080\tepsilon = 0.318\n",
      "epoch #46\tmean reward = 160.910\tepsilon = 0.315\n",
      "epoch #47\tmean reward = 143.570\tepsilon = 0.312\n",
      "epoch #48\tmean reward = 151.330\tepsilon = 0.309\n",
      "epoch #49\tmean reward = 202.250\tepsilon = 0.306\n",
      "epoch #50\tmean reward = 148.640\tepsilon = 0.303\n",
      "epoch #51\tmean reward = 177.430\tepsilon = 0.299\n",
      "epoch #52\tmean reward = 199.340\tepsilon = 0.296\n",
      "epoch #53\tmean reward = 256.590\tepsilon = 0.294\n",
      "epoch #54\tmean reward = 115.270\tepsilon = 0.291\n",
      "epoch #55\tmean reward = 31.720\tepsilon = 0.288\n",
      "epoch #56\tmean reward = 26.960\tepsilon = 0.285\n",
      "epoch #57\tmean reward = 29.610\tepsilon = 0.282\n",
      "epoch #58\tmean reward = 174.410\tepsilon = 0.279\n",
      "epoch #59\tmean reward = 174.890\tepsilon = 0.276\n",
      "epoch #60\tmean reward = 39.360\tepsilon = 0.274\n",
      "epoch #61\tmean reward = 61.140\tepsilon = 0.271\n",
      "epoch #62\tmean reward = 164.320\tepsilon = 0.268\n",
      "epoch #63\tmean reward = 13.890\tepsilon = 0.265\n",
      "epoch #64\tmean reward = 91.340\tepsilon = 0.263\n",
      "epoch #65\tmean reward = 173.560\tepsilon = 0.260\n",
      "epoch #66\tmean reward = 14.450\tepsilon = 0.258\n",
      "epoch #67\tmean reward = 118.700\tepsilon = 0.255\n",
      "epoch #68\tmean reward = 167.370\tepsilon = 0.252\n",
      "epoch #69\tmean reward = 96.040\tepsilon = 0.250\n",
      "epoch #70\tmean reward = 109.410\tepsilon = 0.247\n",
      "epoch #71\tmean reward = 94.520\tepsilon = 0.245\n",
      "epoch #72\tmean reward = 126.700\tepsilon = 0.242\n",
      "epoch #73\tmean reward = 131.930\tepsilon = 0.240\n",
      "epoch #74\tmean reward = 152.880\tepsilon = 0.238\n",
      "epoch #75\tmean reward = 208.660\tepsilon = 0.235\n",
      "epoch #76\tmean reward = 191.380\tepsilon = 0.233\n",
      "epoch #77\tmean reward = 166.960\tepsilon = 0.231\n",
      "epoch #78\tmean reward = 34.240\tepsilon = 0.228\n",
      "epoch #79\tmean reward = 14.250\tepsilon = 0.226\n",
      "epoch #80\tmean reward = 39.200\tepsilon = 0.224\n",
      "epoch #81\tmean reward = 127.010\tepsilon = 0.222\n",
      "epoch #82\tmean reward = 18.320\tepsilon = 0.219\n",
      "epoch #83\tmean reward = 143.370\tepsilon = 0.217\n",
      "epoch #84\tmean reward = 59.980\tepsilon = 0.215\n",
      "epoch #85\tmean reward = 155.270\tepsilon = 0.213\n",
      "epoch #86\tmean reward = 92.340\tepsilon = 0.211\n",
      "epoch #87\tmean reward = 20.140\tepsilon = 0.209\n",
      "epoch #88\tmean reward = 153.870\tepsilon = 0.206\n",
      "epoch #89\tmean reward = 58.160\tepsilon = 0.204\n",
      "epoch #90\tmean reward = 85.500\tepsilon = 0.202\n",
      "epoch #91\tmean reward = 55.460\tepsilon = 0.200\n",
      "epoch #92\tmean reward = 139.340\tepsilon = 0.198\n",
      "epoch #93\tmean reward = 151.780\tepsilon = 0.196\n",
      "epoch #94\tmean reward = 111.000\tepsilon = 0.194\n",
      "epoch #95\tmean reward = 113.500\tepsilon = 0.192\n",
      "epoch #96\tmean reward = 120.790\tepsilon = 0.191\n",
      "epoch #97\tmean reward = 134.700\tepsilon = 0.189\n",
      "epoch #98\tmean reward = 138.320\tepsilon = 0.187\n",
      "epoch #99\tmean reward = 218.620\tepsilon = 0.185\n",
      "epoch #100\tmean reward = 161.080\tepsilon = 0.183\n",
      "epoch #101\tmean reward = 288.750\tepsilon = 0.181\n",
      "epoch #102\tmean reward = 28.090\tepsilon = 0.179\n",
      "epoch #103\tmean reward = 266.940\tepsilon = 0.178\n",
      "epoch #104\tmean reward = 228.620\tepsilon = 0.176\n",
      "epoch #105\tmean reward = 231.170\tepsilon = 0.174\n",
      "epoch #106\tmean reward = 243.870\tepsilon = 0.172\n",
      "epoch #107\tmean reward = 253.100\tepsilon = 0.171\n",
      "epoch #108\tmean reward = 181.050\tepsilon = 0.169\n",
      "epoch #109\tmean reward = 296.380\tepsilon = 0.167\n",
      "epoch #110\tmean reward = 252.410\tepsilon = 0.166\n",
      "epoch #111\tmean reward = 196.790\tepsilon = 0.164\n",
      "epoch #112\tmean reward = 141.160\tepsilon = 0.162\n",
      "epoch #113\tmean reward = 100.320\tepsilon = 0.161\n",
      "epoch #114\tmean reward = 199.240\tepsilon = 0.159\n",
      "epoch #115\tmean reward = 228.910\tepsilon = 0.157\n",
      "epoch #116\tmean reward = 211.650\tepsilon = 0.156\n",
      "epoch #117\tmean reward = 240.770\tepsilon = 0.154\n",
      "epoch #118\tmean reward = 337.210\tepsilon = 0.153\n",
      "You Win!\n"
     ]
    }
   ],
   "source": [
    "for i in range(1000):\n",
    "    session_rewards = [generate_session(env, epsilon=epsilon, train=True) for _ in range(100)]\n",
    "    print(\"epoch #{}\\tmean reward = {:.3f}\\tepsilon = {:.3f}\".format(i, np.mean(session_rewards), epsilon))\n",
    "\n",
    "    epsilon *= 0.99\n",
    "    assert epsilon >= 1e-4, \"Make sure epsilon is always nonzero during training\"\n",
    "\n",
    "    if np.mean(session_rewards) > 300:\n",
    "        print(\"You Win!\")\n",
    "        break"
   ]
  },
  {
   "cell_type": "markdown",
   "metadata": {},
   "source": [
    "### How to interpret results\n",
    "\n",
    "\n",
    "Welcome to the f.. world of deep f...n reinforcement learning. Don't expect agent's reward to smoothly go up. Hope for it to go increase eventually. If it deems you worthy.\n",
    "\n",
    "Seriously though,\n",
    "* __ mean reward__ is the average reward per game. For a correct implementation it may stay low for some 10 epochs, then start growing while oscilating insanely and converges by ~50-100 steps depending on the network architecture. \n",
    "* If it never reaches target score by the end of for loop, try increasing the number of hidden neurons or look at the epsilon.\n",
    "* __ epsilon__ - agent's willingness to explore. If you see that agent's already at < 0.01 epsilon before it's is at least 200, just reset it back to 0.1 - 0.5."
   ]
  },
  {
   "cell_type": "markdown",
   "metadata": {},
   "source": [
    "### Record videos\n",
    "\n",
    "As usual, we now use `gym.wrappers.Monitor` to record a video of our agent playing the game. Unlike our previous attempts with state binarization, this time we expect our agent to act ~~(or fail)~~ more smoothly since there's no more binarization error at play.\n",
    "\n",
    "As you already did with tabular q-learning, we set epsilon=0 for final evaluation to prevent agent from exploring himself to death."
   ]
  },
  {
   "cell_type": "code",
   "execution_count": 35,
   "metadata": {},
   "outputs": [],
   "source": [
    "# Record sessions\n",
    "\n",
    "import gym.wrappers\n",
    "\n",
    "with gym.wrappers.Monitor(gym.make(\"CartPole-v0\"), directory=\"videos\", force=True) as env_monitor:\n",
    "    sessions = [generate_session(env_monitor, epsilon=0, train=False) for _ in range(100)]"
   ]
  },
  {
   "cell_type": "code",
   "execution_count": 36,
   "metadata": {},
   "outputs": [
    {
     "data": {
      "text/plain": "<IPython.core.display.HTML object>",
      "text/html": "\n<video width=\"640\" height=\"480\" controls>\n  <source src=\"videos\\openaigym.video.0.18908.video000064.mp4\" type=\"video/mp4\">\n</video>\n"
     },
     "execution_count": 36,
     "metadata": {},
     "output_type": "execute_result"
    }
   ],
   "source": [
    "# Show video. This may not work in some setups. If it doesn't\n",
    "# work for you, you can download the videos and view them locally.\n",
    "\n",
    "from pathlib import Path\n",
    "from base64 import b64encode\n",
    "from IPython.display import HTML\n",
    "\n",
    "video_paths = sorted([s for s in Path('videos').iterdir() if s.suffix == '.mp4'])\n",
    "video_path = video_paths[-1]  # You can also try other indices\n",
    "\n",
    "if 'google.colab' in sys.modules:\n",
    "    # https://stackoverflow.com/a/57378660/1214547\n",
    "    with video_path.open('rb') as fp:\n",
    "        mp4 = fp.read()\n",
    "    data_url = 'data:video/mp4;base64,' + b64encode(mp4).decode()\n",
    "else:\n",
    "    data_url = str(video_path)\n",
    "\n",
    "HTML(\"\"\"\n",
    "<video width=\"640\" height=\"480\" controls>\n",
    "  <source src=\"{}\" type=\"video/mp4\">\n",
    "</video>\n",
    "\"\"\".format(data_url))"
   ]
  }
 ],
 "metadata": {
  "language_info": {
   "name": "python",
   "pygments_lexer": "ipython3"
  }
 },
 "nbformat": 4,
 "nbformat_minor": 1
}
